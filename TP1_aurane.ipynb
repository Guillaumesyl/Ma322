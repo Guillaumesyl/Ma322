{
 "cells": [
  {
   "cell_type": "code",
   "execution_count": 37,
   "id": "f4f6d5f8",
   "metadata": {},
   "outputs": [],
   "source": [
    "import math as m\n",
    "import numpy as np\n",
    "import matplotlib.pyplot as plt"
   ]
  },
  {
   "cell_type": "markdown",
   "id": "ae48207a",
   "metadata": {},
   "source": [
    "## Functions"
   ]
  },
  {
   "cell_type": "code",
   "execution_count": 38,
   "id": "b8af3797",
   "metadata": {},
   "outputs": [],
   "source": [
    "# define the function\n",
    "def f(x):\n",
    "    return 1/(1+x**2)\n",
    "def fprime(x):\n",
    "    return -2*x/(1+x**2)**2\n",
    "\n",
    "def f1(x):\n",
    "    return m.exp(-x)/x**2\n",
    "\n",
    "def f2(x):\n",
    "    return m.sin(x**3)\n",
    "\n",
    "def f3(x):\n",
    "    return x/m.ln(x)\n",
    "\n",
    "def f4(x):\n",
    "    return sin(x)/(1+x**6)\n",
    "\n",
    "def f5(x):\n",
    "    return m.cos(m.sin(x))\n",
    "\n",
    "def f6(x):\n",
    "    return 1/m.ln(4+x)"
   ]
  },
  {
   "cell_type": "markdown",
   "id": "854db76b",
   "metadata": {},
   "source": [
    "## Left rectangle"
   ]
  },
  {
   "cell_type": "code",
   "execution_count": 39,
   "id": "initial_id",
   "metadata": {
    "collapsed": true
   },
   "outputs": [
    {
     "name": "stdout",
     "output_type": "stream",
     "text": [
      "1.0478470161228528\n"
     ]
    }
   ],
   "source": [
    "def MGauche(f,a,b,N):\n",
    "    h = (b-a)/N\n",
    "    s = 0\n",
    "    for i in range(N):\n",
    "        s += f(a+i*h)\n",
    "    return h*s\n",
    "\n",
    "I_MGauche=MGauche(f,0,m.sqrt(3),1000)\n",
    "print(I_MGauche)\n",
    "\n",
    "# error estimation for the left rectangle method\n",
    "#error_MGauche = abs(I_MGauche - m.pi/3)\n",
    "#print(error_MGauche)\n",
    "\n",
    "\n",
    "    "
   ]
  },
  {
   "cell_type": "markdown",
   "id": "1904fea4",
   "metadata": {},
   "source": [
    "## Right rectangle"
   ]
  },
  {
   "cell_type": "code",
   "execution_count": 40,
   "id": "0d4c5820",
   "metadata": {},
   "outputs": [
    {
     "name": "stdout",
     "output_type": "stream",
     "text": [
      "1.046547978017176\n",
      "0.0006495731794216031\n"
     ]
    }
   ],
   "source": [
    "def MDroite(f,a,b,N):\n",
    "    h = (b-a)/N\n",
    "    s = 0\n",
    "    for i in range(1,N+1):\n",
    "        s += f(a+i*h)\n",
    "    return h*s\n",
    "\n",
    "I_MDroite=MDroite(f,0,m.sqrt(3),1000)\n",
    "print(I_MDroite)\n",
    "\n",
    "# error estimation for the right rectangle method\n",
    "error_MDroite = abs(I_MDroite - m.pi/3)\n",
    "print(error_MDroite)"
   ]
  },
  {
   "cell_type": "markdown",
   "id": "d49a21e3",
   "metadata": {},
   "source": [
    "## Boole-Villarceau"
   ]
  },
  {
   "cell_type": "code",
   "execution_count": 41,
   "id": "da1b06e3",
   "metadata": {},
   "outputs": [
    {
     "name": "stdout",
     "output_type": "stream",
     "text": [
      "1.047197551196598\n",
      "4.440892098500626e-16\n"
     ]
    }
   ],
   "source": [
    "def MBooleV(f,a,b,N):\n",
    "    h = (b-a)/N\n",
    "    s = 0\n",
    "    for i in range(0,N,4):\n",
    "        s += 7*f(a+i*h) + 32*f(a+(i+1)*h) + 12*f(a+(i+2)*h) + 32*f(a+(i+3)*h) + 7*f(a+(i+4)*h)\n",
    "    return 2*h*s/45\n",
    "\n",
    "I_MBooleV=MBooleV(f,0,m.sqrt(3),1000)\n",
    "print(I_MBooleV)\n",
    "\n",
    "# error estimation for the Boole method\n",
    "error_MBooleV = abs(I_MBooleV - m.pi/3)\n",
    "print(error_MBooleV)\n"
   ]
  },
  {
   "cell_type": "markdown",
   "id": "835a09ea",
   "metadata": {},
   "source": [
    "## Question 2"
   ]
  },
  {
   "cell_type": "code",
   "execution_count": 48,
   "id": "74adb9f1",
   "metadata": {},
   "outputs": [
    {
     "data": {
      "image/png": "[encoded data removed]",
      "text/plain": [
       "<Figure size 432x288 with 1 Axes>"
      ]
     },
     "metadata": {
      "needs_background": "light"
     },
     "output_type": "display_data"
    }
   ],
   "source": [
    "x=[10,100,1000,10000]\n",
    "y_LRM=[]\n",
    "y_RRM=[]\n",
    "y_Trapezes=[]\n",
    "y_ptMilieu=[]\n",
    "y_Simpson=[]\n",
    "y_GL2=[]\n",
    "y_Boole=[]\n",
    "\n",
    "# error estimation for the left rectangle method\n",
    "for N in x:\n",
    "    I_MGauche=MGauche(f,0,m.sqrt(3),N)\n",
    "    error_MGauche = abs(I_MGauche - m.pi/3)\n",
    "    y_LRM.append(error_MGauche)\n",
    "\n",
    "# error estimation for the right rectangle method\n",
    "for N in x:\n",
    "    I_MDroite=MDroite(f,0,m.sqrt(3),N)\n",
    "    error_MDroite = abs(I_MDroite - m.pi/3)\n",
    "    y_RRM.append(error_MDroite)\n",
    "\n",
    "# error estimation for the Boole method\n",
    "for N in x:\n",
    "    I_MBooleV=MBooleV(f,0,m.sqrt(3),N)\n",
    "    error_MBooleV = abs(I_MBooleV - m.pi/3)\n",
    "    y_Boole.append(error_MBooleV)\n",
    "\n",
    "# error estimation for the trapezes method\n",
    "    \n",
    "    \n",
    "# error estimation for the midpoint method\n",
    "    \n",
    "# error estimation for the Simpson method\n",
    "\n",
    "# error estimation for the Gauss-Legendre method\n",
    "\n",
    "# plot the error as a function of N\n",
    "plt.figure()\n",
    "plt.plot(x,y_LRM,'r', label='Left rectangle method') # left rectangle method\n",
    "plt.plot(x,y_RRM,'b', label='Right rectangle method') # right rectangle method\n",
    "# plt.plot(x,y_Trapezes,'y', label='Trapezes method') # Trapezes method\n",
    "# plt.plot(x,y_ptMilieu,'m', label='Midpoint method') # Midpoint method\n",
    "# plt.plot(x,y_Simpson,'c', label='Simpson method') # Simpson method\n",
    "# plt.plot(x,y_GL2,'k', label='Gauss-Legendre method') # Gauss-Legendre method\n",
    "plt.plot(x,y_Boole,'g', label='Boole method') # Boole method\n",
    "plt.legend()\n",
    "plt.xscale('log')\n",
    "plt.xlabel('N')\n",
    "plt.ylabel('Error')\n",
    "plt.title('Evolution of the error as a function of N')\n",
    "plt.show()"
   ]
  },
  {
   "cell_type": "markdown",
   "id": "119ae0d7",
   "metadata": {},
   "source": [
    "#"
   ]
  }
 ],
 "metadata": {
  "kernelspec": {
   "display_name": "Python 3",
   "language": "python",
   "name": "python3"
  },
  "language_info": {
   "codemirror_mode": {
    "name": "ipython",
    "version": 3
   },
   "file_extension": ".py",
   "mimetype": "text/x-python",
   "name": "python",
   "nbconvert_exporter": "python",
   "pygments_lexer": "ipython3",
   "version": "3.8.8"
  }
 },
 "nbformat": 4,
 "nbformat_minor": 5
}
