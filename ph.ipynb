{
 "cells": [
  {
   "cell_type": "code",
   "execution_count": 5,
   "id": "initial_id",
   "metadata": {
    "collapsed": true,
    "ExecuteTime": {
     "end_time": "2024-02-27T15:33:54.034685400Z",
     "start_time": "2024-02-27T15:33:53.101262300Z"
    }
   },
   "outputs": [],
   "source": [
    "import numpy as np"
   ]
  },
  {
   "cell_type": "markdown",
   "source": [
    "## Trapezoidal method"
   ],
   "metadata": {
    "collapsed": false
   },
   "id": "9deec3a18938963b"
  },
  {
   "cell_type": "code",
   "execution_count": 38,
   "outputs": [
    {
     "name": "stdout",
     "output_type": "stream",
     "text": [
      "3.4999999999999996\n"
     ]
    }
   ],
   "source": [
    "def MTrapezes(f,a,b,N):\n",
    "    \"\"\"Calculates the integral of a function using the trapezoidal rule\"\"\"\n",
    "    #Step size\n",
    "    h = (b-a)/N\n",
    "    #Array of x values\n",
    "    x = np.linspace(a,b,N+1)\n",
    "    #Trapezoidal rule\n",
    "    I = 0\n",
    "    for i in range (N):\n",
    "        I += (h/2)*(f(x[i]) + f(x[i+1]))\n",
    "    return I\n"
   ],
   "metadata": {
    "collapsed": false,
    "ExecuteTime": {
     "end_time": "2024-02-27T15:51:33.384766700Z",
     "start_time": "2024-02-27T15:51:33.360562500Z"
    }
   },
   "id": "776a3eaafa1e2761"
  },
  {
   "cell_type": "markdown",
   "source": [
    "## Simpson's method "
   ],
   "metadata": {
    "collapsed": false
   },
   "id": "8f6b999a5ff01fca"
  },
  {
   "cell_type": "code",
   "execution_count": 35,
   "outputs": [],
   "source": [
    "def MSimpson(f,a,b,N):\n",
    "    \"\"\"Calculates the integral of a function using Simpson's rule\"\"\"\n",
    "    #Step size\n",
    "    h = (b-a)/N\n",
    "    #Array of x values\n",
    "    x = np.linspace(a,b,N+1)\n",
    "    #Simpson's rule\n",
    "    I = 0\n",
    "    for i in range (N):\n",
    "        #c coefficient\n",
    "        ci = 0.5*(x[i] + x[i+1])\n",
    "        \n",
    "        I += (h/6)*(f(x[i]) + 4*f(ci) + f(x[i+1]))\n",
    "    return I\n"
   ],
   "metadata": {
    "collapsed": false,
    "ExecuteTime": {
     "end_time": "2024-02-27T15:49:23.302802200Z",
     "start_time": "2024-02-27T15:49:23.287856200Z"
    }
   },
   "id": "a4afa1a535702fe4"
  }
 ],
 "metadata": {
  "kernelspec": {
   "display_name": "Python 3",
   "language": "python",
   "name": "python3"
  },
  "language_info": {
   "codemirror_mode": {
    "name": "ipython",
    "version": 2
   },
   "file_extension": ".py",
   "mimetype": "text/x-python",
   "name": "python",
   "nbconvert_exporter": "python",
   "pygments_lexer": "ipython2",
   "version": "2.7.6"
  }
 },
 "nbformat": 4,
 "nbformat_minor": 5
}
