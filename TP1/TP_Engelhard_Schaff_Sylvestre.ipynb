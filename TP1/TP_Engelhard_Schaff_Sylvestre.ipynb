{
 "cells": [
  {
   "cell_type": "markdown",
   "source": [
    "Pierre-Henri Engelhard, Aurane Schaff, Guillaume Sylvestre"
   ],
   "metadata": {
    "collapsed": false
   },
   "id": "e4d788fb9dea16b8"
  },
  {
   "cell_type": "code",
   "execution_count": 47,
   "id": "f4f6d5f8",
   "metadata": {
    "ExecuteTime": {
     "end_time": "2024-02-27T21:16:49.543866800Z",
     "start_time": "2024-02-27T21:16:49.520257600Z"
    }
   },
   "outputs": [],
   "source": [
    "import math as m\n",
    "import numpy as np\n",
    "import matplotlib.pyplot as plt\n",
    "from scipy.integrate import quad"
   ]
  },
  {
   "cell_type": "markdown",
   "id": "ae48207a",
   "metadata": {},
   "source": [
    "## Functions"
   ]
  },
  {
   "cell_type": "code",
   "execution_count": 35,
   "id": "b8af3797",
   "metadata": {
    "ExecuteTime": {
     "end_time": "2024-02-27T21:15:49.589596200Z",
     "start_time": "2024-02-27T21:15:49.563559200Z"
    }
   },
   "outputs": [],
   "source": [
    "# define the function\n",
    "def f(x):\n",
    "    return 1/(1+x**2)\n",
    "\n",
    "def f1(x):\n",
    "    return m.exp(-x)/x**2\n",
    "\n",
    "def f2(x):\n",
    "    return m.sin(x**3)\n",
    "\n",
    "def f3(x):\n",
    "    return x/m.log(x)\n",
    "\n",
    "def f4(x):\n",
    "    return m.sin(x)/(1+x**6)\n",
    "\n",
    "def f5(x):\n",
    "    return m.cos(m.sin(x))\n",
    "\n",
    "def f6(x):\n",
    "    return 1/m.log(4+x)"
   ]
  },
  {
   "cell_type": "markdown",
   "source": [
    "# Question 1"
   ],
   "metadata": {
    "collapsed": false
   },
   "id": "ef3f2933b88d0d99"
  },
  {
   "cell_type": "markdown",
   "id": "854db76b",
   "metadata": {},
   "source": [
    "## Left rectangle"
   ]
  },
  {
   "cell_type": "code",
   "execution_count": 49,
   "id": "initial_id",
   "metadata": {
    "collapsed": true,
    "ExecuteTime": {
     "end_time": "2024-02-27T21:17:15.367516300Z",
     "start_time": "2024-02-27T21:17:15.355994500Z"
    }
   },
   "outputs": [],
   "source": [
    "def MGauche(f,a,b,N):\n",
    "    h = (b-a)/N\n",
    "    s = 0\n",
    "    for i in range(N):\n",
    "        s += f(a+i*h)\n",
    "    return h*s  "
   ]
  },
  {
   "cell_type": "markdown",
   "id": "1904fea4",
   "metadata": {},
   "source": [
    "## Right rectangle"
   ]
  },
  {
   "cell_type": "code",
   "execution_count": 50,
   "id": "0d4c5820",
   "metadata": {
    "ExecuteTime": {
     "end_time": "2024-02-27T21:17:25.816671900Z",
     "start_time": "2024-02-27T21:17:25.788700200Z"
    }
   },
   "outputs": [],
   "source": [
    "def MDroite(f,a,b,N):\n",
    "    h = (b-a)/N\n",
    "    s = 0\n",
    "    for i in range(1,N+1):\n",
    "        s += f(a+i*h)\n",
    "    return h*s"
   ]
  },
  {
   "cell_type": "markdown",
   "source": [
    "## Trapezoidal method"
   ],
   "metadata": {
    "collapsed": false
   },
   "id": "2d59838ae1f94372"
  },
  {
   "cell_type": "code",
   "outputs": [],
   "source": [
    "def MTrapezes(f,a,b,N):\n",
    "    \"\"\"Calculates the integral of a function using the trapezoidal rule\"\"\"\n",
    "    #Step size\n",
    "    h = (b-a)/N\n",
    "    #Array of x values\n",
    "    x = np.linspace(a,b,N+1)\n",
    "    #Trapezoidal rule\n",
    "    I = 0\n",
    "    for i in range (N):\n",
    "        I += (h/2)*(f(x[i]) + f(x[i+1]))\n",
    "    return I"
   ],
   "metadata": {
    "collapsed": false,
    "ExecuteTime": {
     "end_time": "2024-02-27T21:17:37.627728300Z",
     "start_time": "2024-02-27T21:17:37.609118300Z"
    }
   },
   "id": "48f66dc54df77403",
   "execution_count": 51
  },
  {
   "cell_type": "markdown",
   "source": [
    "## Midpoint method"
   ],
   "metadata": {
    "collapsed": false
   },
   "id": "9eab7beb387e7747"
  },
  {
   "cell_type": "code",
   "outputs": [],
   "source": [
    "def MPointMilieu(f, a, b, N):\n",
    "    result = 0\n",
    "    h = (a+b) / N  # number of intervals\n",
    "    x = np.linspace(a, b, N+1)  # N+1 points make N intervals\n",
    "    for i in range (1, N+1):\n",
    "        center_point = (x[i]+ x[i-1]) / 2  # calculate the center point of each interval\n",
    "        result = result + (h * f(center_point))  # add the area of each rectangle to the result\n",
    "    \n",
    "    return result"
   ],
   "metadata": {
    "collapsed": false,
    "ExecuteTime": {
     "end_time": "2024-02-27T21:18:14.588753400Z",
     "start_time": "2024-02-27T21:18:14.575237900Z"
    }
   },
   "id": "23920f182a75d8fc",
   "execution_count": 52
  },
  {
   "cell_type": "markdown",
   "source": [
    "## Simpson"
   ],
   "metadata": {
    "collapsed": false
   },
   "id": "219fa1c0e2360249"
  },
  {
   "cell_type": "code",
   "outputs": [],
   "source": [
    "def MSimpson(f,a,b,N):\n",
    "    \"\"\"Calculates the integral of a function using Simpson's rule\"\"\"\n",
    "    #Step size\n",
    "    h = (b-a)/N\n",
    "    #Array of x values\n",
    "    x = np.linspace(a,b,N+1)\n",
    "    #Simpson's rule\n",
    "    I = 0\n",
    "    for i in range (N):\n",
    "        #c coefficient\n",
    "        ci = 0.5*(x[i] + x[i+1])\n",
    "        I += (h/6)*(f(x[i]) + 4*f(ci) + f(x[i+1]))\n",
    "    return I"
   ],
   "metadata": {
    "collapsed": false,
    "ExecuteTime": {
     "end_time": "2024-02-27T21:18:20.827947700Z",
     "start_time": "2024-02-27T21:18:20.812654400Z"
    }
   },
   "id": "b029e3d395627d79",
   "execution_count": 53
  },
  {
   "cell_type": "markdown",
   "source": [
    "## Gauss-Legendre"
   ],
   "metadata": {
    "collapsed": false
   },
   "id": "31f584831593eb46"
  },
  {
   "cell_type": "code",
   "outputs": [],
   "source": [
    "def MformuleGL2(f, a, b, N):\n",
    "    h = (a+b) / N  # number of intervals\n",
    "    approximation = 0  # initialize the result\n",
    "    for i in range (0, N):\n",
    "        approximation += f(-(h/(2*np.sqrt(3)))*a + i*h) + f((h/(2*np.sqrt(3)))*a + i*h)  # summation of all the intervals using the Gauss-Legendre method\n",
    "    approximation *= (h/2)  # multiply the result by h/2 to obtain the result of the integral\n",
    "    \n",
    "    return approximation"
   ],
   "metadata": {
    "collapsed": false,
    "ExecuteTime": {
     "end_time": "2024-02-27T21:19:14.400929100Z",
     "start_time": "2024-02-27T21:19:14.375896900Z"
    }
   },
   "id": "536c9324b58dc9ee",
   "execution_count": 54
  },
  {
   "cell_type": "markdown",
   "id": "d49a21e3",
   "metadata": {},
   "source": [
    "## Boole-Villarceau"
   ]
  },
  {
   "cell_type": "code",
   "execution_count": 55,
   "id": "da1b06e3",
   "metadata": {
    "ExecuteTime": {
     "end_time": "2024-02-27T21:19:28.151623700Z",
     "start_time": "2024-02-27T21:19:28.136072500Z"
    }
   },
   "outputs": [],
   "source": [
    "def MBooleV(f,a,b,N):\n",
    "    h = (b-a)/N  # number of intervals\n",
    "    s = 0  # initialize the result\n",
    "    for i in range(0,N,4):\n",
    "        s += 7*f(a+i*h) + 32*f(a+(i+1)*h) + 12*f(a+(i+2)*h) + 32*f(a+(i+3)*h) + 7*f(a+(i+4)*h)  # summation of all the intervals using the Boole-Villarceau method\n",
    "    return 2*h*s/45"
   ]
  },
  {
   "cell_type": "markdown",
   "id": "835a09ea",
   "metadata": {},
   "source": [
    "# Question 2"
   ]
  },
  {
   "cell_type": "code",
   "execution_count": 56,
   "id": "74adb9f1",
   "metadata": {
    "ExecuteTime": {
     "end_time": "2024-02-27T21:19:39.767986600Z",
     "start_time": "2024-02-27T21:19:39.327141200Z"
    }
   },
   "outputs": [
    {
     "data": {
      "text/plain": "<Figure size 640x480 with 1 Axes>",
      "image/png": "[encoded data removed]"
     },
     "metadata": {},
     "output_type": "display_data"
    }
   ],
   "source": [
    "x=[1,10,100,1000,10000]\n",
    "y_LRM=[]\n",
    "y_RRM=[]\n",
    "y_Trapezes=[]\n",
    "y_ptMilieu=[]\n",
    "y_Simpson=[]\n",
    "y_GL2=[]\n",
    "y_Boole=[]\n",
    "\n",
    "# error estimation for the left rectangle method\n",
    "for N in x:\n",
    "    I_MGauche=MGauche(f,0,m.sqrt(3),N)\n",
    "    error_MGauche = abs(I_MGauche - m.pi/3)\n",
    "    y_LRM.append(error_MGauche)\n",
    "\n",
    "# error estimation for the right rectangle method\n",
    "for N in x:\n",
    "    I_MDroite=MDroite(f,0,m.sqrt(3),N)\n",
    "    error_MDroite = abs(I_MDroite - m.pi/3)\n",
    "    y_RRM.append(error_MDroite)\n",
    "\n",
    "# error estimation for the Boole method\n",
    "for N in x:\n",
    "    I_MBooleV=MBooleV(f,0,m.sqrt(3),N)\n",
    "    error_MBooleV = abs(I_MBooleV - m.pi/3)\n",
    "    y_Boole.append(error_MBooleV)\n",
    "\n",
    "# error estimation for the trapezes method\n",
    "for N in x:\n",
    "    I_MTrap=MTrapezes(f,0,m.sqrt(3),N)\n",
    "    error_MTrap = abs(I_MTrap - m.pi/3)\n",
    "    y_Trapezes.append(error_MTrap)    \n",
    "    \n",
    "# error estimation for the midpoint method\n",
    "for N in x:\n",
    "    I_MMidPoint=MPointMilieu(f,0,m.sqrt(3),N)\n",
    "    error_MMidPoint = abs(I_MMidPoint - m.pi/3)\n",
    "    y_ptMilieu.append(error_MMidPoint)\n",
    "    \n",
    "# error estimation for the Simpson method\n",
    "for N in x:\n",
    "    I_MSimpson= MSimpson(f,0,m.sqrt(3),N)\n",
    "    error_MSimpson = abs(I_MSimpson - m.pi/3)\n",
    "    y_Simpson.append(error_MSimpson)\n",
    "    \n",
    "# error estimation for the Gauss-Legendre method\n",
    "for N in x:\n",
    "    I_MGaussLegendre= MformuleGL2(f,0,m.sqrt(3),N)\n",
    "    error_MformuleGL2 = abs(I_MGaussLegendre - m.pi/3)\n",
    "    y_GL2.append(error_MformuleGL2)\n",
    "    \n",
    "# plot the error as a function of N\n",
    "plt.figure()\n",
    "plt.plot(x,y_LRM,'r', label='Left rectangle method') # left rectangle method\n",
    "plt.plot(x,y_RRM,'b', label='Right rectangle method') # right rectangle method\n",
    "plt.plot(x,y_Trapezes,'y', label='Trapezes method') # Trapezes method\n",
    "plt.plot(x,y_ptMilieu,'m', label='Midpoint method') # Midpoint method\n",
    "plt.plot(x,y_Simpson,'c', label='Simpson method') # Simpson method\n",
    "plt.plot(x,y_GL2,'k', label='Gauss-Legendre method') # Gauss-Legendre method\n",
    "plt.plot(x,y_Boole,'g', label='Boole method') # Boole method\n",
    "plt.legend()\n",
    "plt.xscale('log')\n",
    "plt.xlabel('N')\n",
    "plt.ylabel('Error')\n",
    "plt.title('Evolution of the error as a function of N')\n",
    "plt.grid()\n",
    "plt.show()"
   ]
  },
  {
   "cell_type": "markdown",
   "source": [
    "As we can see from the plot the error decreases for all the function as the number of subdivisions increases. This can be explained by the fact that the parameter h use in the calculation of the error decreases as the number of subdivisions increases which is in correlation with our results."
   ],
   "metadata": {
    "collapsed": false
   },
   "id": "744980315f46f8e5"
  },
  {
   "cell_type": "markdown",
   "source": [
    "# Question 3"
   ],
   "metadata": {
    "collapsed": false
   },
   "id": "31b75f3617b88c37"
  },
  {
   "cell_type": "code",
   "outputs": [],
   "source": [
    "def error(function ,a,b, N):\n",
    "    \"\"\"Calculates the error of the Simpson's method\"\"\"\n",
    "    #Exact value\n",
    "    temp = quad(f,a,b)\n",
    "    Iexact = temp[0]\n",
    "    #Method value\n",
    "    I = MSimpson(f,a,b,N)\n",
    "    #Error\n",
    "    E = abs(Iexact - I)\n",
    "    \n",
    "    print(\"The value of the integral using Simpson method is \", Iexact)\n",
    "    \n",
    "    return E"
   ],
   "metadata": {
    "collapsed": false,
    "ExecuteTime": {
     "end_time": "2024-02-27T21:27:15.740853700Z",
     "start_time": "2024-02-27T21:27:15.724326100Z"
    }
   },
   "id": "6beb7faad3b840eb",
   "execution_count": 64
  },
  {
   "cell_type": "markdown",
   "source": [
    "For the end of the question we will use the same subdivision for all the functions with N = 100"
   ],
   "metadata": {
    "collapsed": false
   },
   "id": "2102e0531306f76f"
  },
  {
   "cell_type": "code",
   "outputs": [
    {
     "name": "stdout",
     "output_type": "stream",
     "text": [
      "The value of the integral using Simpson method is  0.3217505543966422\n",
      "The error for the function f1 is 7.998046669399628e-13 \n",
      "\n",
      "The value of the integral using Simpson method is  1.1071487177940904\n",
      "The error for the function f2 is 1.2799539206298505e-11 \n",
      "\n",
      "The value of the integral using Simpson method is  0.3639789565096444\n",
      "The error for the function f3 is 3.272635384909961e-09 \n",
      "\n",
      "The value of the integral using Simpson method is  0.7853981633974484\n",
      "The error for the function f4 is 3.3306690738754696e-16 \n",
      "\n",
      "The value of the integral using Simpson method is  1.2626272556789226\n",
      "The error for the function f5 is 1.621480727465041e-11 \n",
      "\n",
      "The value of the integral using Simpson method is  1.2490457723982544\n",
      "The error for the function f6 is 1.619970824151551e-11 \n"
     ]
    }
   ],
   "source": [
    "list_f = [f1,f2,f3,f4,f5,f6]\n",
    "bound_integration = [(1,2), (0,2), (2,10), (0,1), (0, np.pi), (0,3)]\n",
    "subdivision = 100\n",
    "\n",
    "for i in range (len(list_f)):\n",
    "    print(f\"The error for the function f{i+1} is {error(list_f[i], bound_integration[i][0], bound_integration[i][1], subdivision)} \\n\")"
   ],
   "metadata": {
    "collapsed": false,
    "ExecuteTime": {
     "end_time": "2024-02-27T21:27:19.017105900Z",
     "start_time": "2024-02-27T21:27:18.992954700Z"
    }
   },
   "id": "5783940b906d29d0",
   "execution_count": 65
  },
  {
   "cell_type": "markdown",
   "source": [
    "As we can see all the error in the integration are smaller than 1e-09 using 100 as the number of subdivision of the given interval. The accuracy can be improved by increasing the number of subdivision."
   ],
   "metadata": {
    "collapsed": false
   },
   "id": "8675333213903892"
  },
  {
   "cell_type": "code",
   "outputs": [],
   "source": [],
   "metadata": {
    "collapsed": false,
    "ExecuteTime": {
     "end_time": "2024-02-27T21:15:50.230805500Z",
     "start_time": "2024-02-27T21:15:50.165165200Z"
    }
   },
   "id": "e7412f0946f0e005",
   "execution_count": 45
  }
 ],
 "metadata": {
  "kernelspec": {
   "display_name": "Python 3",
   "language": "python",
   "name": "python3"
  },
  "language_info": {
   "codemirror_mode": {
    "name": "ipython",
    "version": 3
   },
   "file_extension": ".py",
   "mimetype": "text/x-python",
   "name": "python",
   "nbconvert_exporter": "python",
   "pygments_lexer": "ipython3",
   "version": "3.8.8"
  }
 },
 "nbformat": 4,
 "nbformat_minor": 5
}
