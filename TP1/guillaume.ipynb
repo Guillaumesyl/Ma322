{
 "cells": [
  {
   "cell_type": "code",
   "outputs": [],
   "source": [
    "import numpy as np"
   ],
   "metadata": {
    "collapsed": false,
    "ExecuteTime": {
     "end_time": "2024-02-27T15:02:25.957393200Z",
     "start_time": "2024-02-27T15:02:25.709343300Z"
    }
   },
   "id": "2db2c9ac1527cef3",
   "execution_count": 1
  },
  {
   "cell_type": "markdown",
   "source": [
    "## Middle Point Method"
   ],
   "metadata": {
    "collapsed": false
   },
   "id": "7d2b0732bfe0d1e5"
  },
  {
   "cell_type": "code",
   "outputs": [],
   "source": [
    "def MPointMilieu(f, a, b, N):\n",
    "    result = 0\n",
    "    h = (a+b) / N\n",
    "    x = np.linspace(a, b, N+1)\n",
    "    print(x)\n",
    "    for i in range (1, N+1):\n",
    "        center_point = (x[i]+ x[i-1]) / 2\n",
    "        result = result + (h * f(center_point))\n",
    "    \n",
    "    return result"
   ],
   "metadata": {
    "collapsed": true
   },
   "id": "initial_id",
   "execution_count": null
  },
  {
   "cell_type": "markdown",
   "source": [
    "## Gauss-Legendre"
   ],
   "metadata": {
    "collapsed": false
   },
   "id": "2ec6b4ab12a9403"
  },
  {
   "cell_type": "code",
   "outputs": [],
   "source": [
    "def MformuleGL2(f, a, b, N):\n",
    "    h = (a+b) / N\n",
    "    approximation = 0\n",
    "    for i in range (0, N):\n",
    "        approximation += f(-(h/(2*np.sqrt(3)))*a + i*h) + f((h/(2*np.sqrt(3)))*a + i*h)\n",
    "    approximation *= (h/2)\n",
    "    \n",
    "    return approximation"
   ],
   "metadata": {
    "collapsed": false,
    "ExecuteTime": {
     "end_time": "2024-02-27T16:27:48.541683100Z",
     "start_time": "2024-02-27T16:27:48.517035100Z"
    }
   },
   "id": "274ab75e1203e8c1",
   "execution_count": 16
  },
  {
   "cell_type": "code",
   "outputs": [],
   "source": [],
   "metadata": {
    "collapsed": false
   },
   "id": "432e8e2e04cf7b0a"
  }
 ],
 "metadata": {
  "kernelspec": {
   "display_name": "Python 3",
   "language": "python",
   "name": "python3"
  },
  "language_info": {
   "codemirror_mode": {
    "name": "ipython",
    "version": 2
   },
   "file_extension": ".py",
   "mimetype": "text/x-python",
   "name": "python",
   "nbconvert_exporter": "python",
   "pygments_lexer": "ipython2",
   "version": "2.7.6"
  }
 },
 "nbformat": 4,
 "nbformat_minor": 5
}
