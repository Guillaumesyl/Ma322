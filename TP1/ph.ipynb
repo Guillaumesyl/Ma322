{
 "cells": [
  {
   "cell_type": "code",
   "execution_count": 42,
   "id": "initial_id",
   "metadata": {
    "collapsed": true,
    "ExecuteTime": {
     "end_time": "2024-02-27T16:07:05.219006700Z",
     "start_time": "2024-02-27T16:07:02.305151400Z"
    }
   },
   "outputs": [],
   "source": [
    "import numpy as np\n",
    "from scipy.integrate import quad"
   ]
  },
  {
   "cell_type": "markdown",
   "source": [
    "## Trapezoidal method"
   ],
   "metadata": {
    "collapsed": false
   },
   "id": "9deec3a18938963b"
  },
  {
   "cell_type": "code",
   "execution_count": 38,
   "outputs": [
    {
     "name": "stdout",
     "output_type": "stream",
     "text": [
      "3.4999999999999996\n"
     ]
    }
   ],
   "source": [
    "def MTrapezes(f,a,b,N):\n",
    "    \"\"\"Calculates the integral of a function using the trapezoidal rule\"\"\"\n",
    "    #Step size\n",
    "    h = (b-a)/N\n",
    "    #Array of x values\n",
    "    x = np.linspace(a,b,N+1)\n",
    "    #Trapezoidal rule\n",
    "    I = 0\n",
    "    for i in range (N):\n",
    "        I += (h/2)*(f(x[i]) + f(x[i+1]))\n",
    "    return I\n"
   ],
   "metadata": {
    "collapsed": false,
    "ExecuteTime": {
     "end_time": "2024-02-27T15:51:33.384766700Z",
     "start_time": "2024-02-27T15:51:33.360562500Z"
    }
   },
   "id": "776a3eaafa1e2761"
  },
  {
   "cell_type": "markdown",
   "source": [
    "## Simpson's method "
   ],
   "metadata": {
    "collapsed": false
   },
   "id": "8f6b999a5ff01fca"
  },
  {
   "cell_type": "code",
   "execution_count": 45,
   "outputs": [],
   "source": [
    "def MSimpson(f,a,b,N):\n",
    "    \"\"\"Calculates the integral of a function using Simpson's rule\"\"\"\n",
    "    #Step size\n",
    "    h = (b-a)/N\n",
    "    #Array of x values\n",
    "    x = np.linspace(a,b,N+1)\n",
    "    #Simpson's rule\n",
    "    I = 0\n",
    "    for i in range (N):\n",
    "        #c coefficient\n",
    "        ci = 0.5*(x[i] + x[i+1])\n",
    "        I += (h/6)*(f(x[i]) + 4*f(ci) + f(x[i+1]))\n",
    "    return I\n"
   ],
   "metadata": {
    "collapsed": false,
    "ExecuteTime": {
     "end_time": "2024-02-27T16:08:33.116003800Z",
     "start_time": "2024-02-27T16:08:33.092714300Z"
    }
   },
   "id": "a4afa1a535702fe4"
  },
  {
   "cell_type": "markdown",
   "source": [
    "## Question 3"
   ],
   "metadata": {
    "collapsed": false
   },
   "id": "155fb86c0e878227"
  },
  {
   "cell_type": "code",
   "execution_count": 48,
   "outputs": [
    {
     "name": "stdout",
     "output_type": "stream",
     "text": [
      "4.440892098500626e-16\n"
     ]
    }
   ],
   "source": [
    "def error(f,a,b,N,MSimpson):\n",
    "    \"\"\"Calculates the error of the Simpson's method\"\"\"\n",
    "    #Exact value\n",
    "    temp = quad(f,a,b)\n",
    "    Iexact = temp[0]\n",
    "    #Method value\n",
    "    I = MSimpson(f,a,b,N)\n",
    "    #Error\n",
    "    E = abs(Iexact - I)\n",
    "    \n",
    "    return E\n",
    "\n",
    "#example\n",
    "def f(x):\n",
    "    return 3*x +2\n",
    "a = 0\n",
    "b = 1\n",
    "N = 10\n",
    "print(error(f,a,b,N,MSimpson))"
   ],
   "metadata": {
    "collapsed": false,
    "ExecuteTime": {
     "end_time": "2024-02-27T16:12:46.301558400Z",
     "start_time": "2024-02-27T16:12:46.274336100Z"
    }
   },
   "id": "4d25192fab55f0cd"
  }
 ],
 "metadata": {
  "kernelspec": {
   "display_name": "Python 3",
   "language": "python",
   "name": "python3"
  },
  "language_info": {
   "codemirror_mode": {
    "name": "ipython",
    "version": 2
   },
   "file_extension": ".py",
   "mimetype": "text/x-python",
   "name": "python",
   "nbconvert_exporter": "python",
   "pygments_lexer": "ipython2",
   "version": "2.7.6"
  }
 },
 "nbformat": 4,
 "nbformat_minor": 5
}
