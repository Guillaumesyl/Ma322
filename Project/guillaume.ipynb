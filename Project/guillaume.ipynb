{
 "cells": [
  {
   "cell_type": "code",
   "outputs": [],
   "source": [
    "import numpy as np\n",
    "import sympy as sp"
   ],
   "metadata": {
    "collapsed": false,
    "ExecuteTime": {
     "end_time": "2024-04-08T12:52:51.565204Z",
     "start_time": "2024-04-08T12:52:50.973029Z"
    }
   },
   "id": "cb05e76241c4d15a",
   "execution_count": 6
  },
  {
   "cell_type": "code",
   "outputs": [
    {
     "name": "stdout",
     "output_type": "stream",
     "text": [
      "(50.0*theta1_dot**2*sin(2*theta1 - 2*theta2) + 100.0*theta2_dot**2*sin(theta1 - theta2) + 1471.5*sin(theta1) + 490.5*sin(theta1 - 2*theta2))/(100.0*cos(theta1 - theta2)**2 - 200.0)\n",
      "(-100.0*theta1_dot**2*sin(theta1 - theta2) - 25.0*theta2_dot**2*sin(2*theta1 - 2*theta2) + 490.5*sin(theta2) - 490.5*sin(2*theta1 - theta2))/(50.0*cos(theta1 - theta2)**2 - 100.0)\n"
     ]
    }
   ],
   "source": [
    "\"\"\"Symbols\"\"\"\n",
    "theta1, theta2, theta1_dot, theta2_dot, theta1_ddot, theta2_ddot = sp.symbols('theta1 theta2 theta1_dot theta2_dot, theta1_ddot, theta2_ddot')\n",
    "\n",
    "\"\"\"Parameters\"\"\"\n",
    "m1, m2, l1, l2 = 1, 1, 1, 1\n",
    "g = 9.81\n",
    "y0 = np.array([np.pi/2, np.pi/2, 0, 0])\n",
    "\n",
    "\"\"\"Equations\"\"\"\n",
    "eq1 = (m1 + m2) * l1 * theta1_ddot + m2 * l2 * theta2_ddot * sp.cos(theta1 - theta2) + m2 * l2 * theta2_dot**2 * sp.sin(theta1 - theta2) + (m1 + m2) * 9.81 * sp.sin(theta1)\n",
    "eq2 = l1 * theta1_ddot * sp.cos(theta1 - theta2) + l2 * theta2_ddot - l1 * theta1_dot**2 * sp.sin(theta1 - theta2) + 9.81 * sp.sin(theta2)\n",
    "\n",
    "\n",
    "\"\"\"Resolution of the system\"\"\"\n",
    "sys = sp.solve((eq1,eq2),(theta1_ddot,theta2_ddot), dict = True)[0]\n",
    "theta1_ddot_ = sp.simplify(sys[theta1_ddot])\n",
    "theta2_ddot_ = sp.simplify(sys[theta2_ddot])\n",
    "\n",
    "\"\"\"Substitution\"\"\"\n",
    "theta1_ddot_lambdify = sp.lambdify((theta1,theta1_dot,theta2,theta2_dot), theta1_ddot, 'numpy')\n",
    "theta2_ddot_lambdify = sp.lambdify((theta1,theta1_dot,theta2,theta2_dot), theta2_ddot, 'numpy')"
   ],
   "metadata": {
    "collapsed": false,
    "ExecuteTime": {
     "end_time": "2024-04-08T13:04:37.528878Z",
     "start_time": "2024-04-08T13:04:36.239777Z"
    }
   },
   "id": "b1f4076443283707",
   "execution_count": 11
  },
  {
   "cell_type": "code",
   "outputs": [],
   "source": [
    "def function(t, y):\n",
    "    return np.array([y[2], y[3], theta1_ddot_lambdify(y[0], y[1], y[2], y[3]), theta2_ddot_lambdify(y[0], y[1], y[2], y[3])])"
   ],
   "metadata": {
    "collapsed": false,
    "ExecuteTime": {
     "end_time": "2024-04-08T13:15:20.659802Z",
     "start_time": "2024-04-08T13:15:20.646802Z"
    }
   },
   "id": "5d1e53b7fc29f415",
   "execution_count": 13
  },
  {
   "cell_type": "markdown",
   "source": [
    "## Modélisation physique du pendule double"
   ],
   "metadata": {
    "collapsed": false
   },
   "id": "aec145cc72176ef4"
  },
  {
   "cell_type": "code",
   "execution_count": null,
   "id": "initial_id",
   "metadata": {
    "collapsed": true
   },
   "outputs": [],
   "source": []
  }
 ],
 "metadata": {
  "kernelspec": {
   "display_name": "Python 3",
   "language": "python",
   "name": "python3"
  },
  "language_info": {
   "codemirror_mode": {
    "name": "ipython",
    "version": 2
   },
   "file_extension": ".py",
   "mimetype": "text/x-python",
   "name": "python",
   "nbconvert_exporter": "python",
   "pygments_lexer": "ipython2",
   "version": "2.7.6"
  }
 },
 "nbformat": 4,
 "nbformat_minor": 5
}
