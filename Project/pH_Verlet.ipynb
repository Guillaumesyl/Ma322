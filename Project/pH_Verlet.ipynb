{
 "cells": [
  {
   "cell_type": "code",
   "id": "initial_id",
   "metadata": {
    "collapsed": true,
    "ExecuteTime": {
     "end_time": "2024-05-03T16:59:34.030670Z",
     "start_time": "2024-05-03T16:59:34.019146Z"
    }
   },
   "source": [
    "import numpy as np\n",
    "import matplotlib.pyplot as plt\n",
    "import sympy as sp"
   ],
   "outputs": [],
   "execution_count": 55
  },
  {
   "metadata": {},
   "cell_type": "markdown",
   "source": [
    "## From Guillaume"
   ],
   "id": "ee59a6ce9875e062"
  },
  {
   "metadata": {},
   "cell_type": "markdown",
   "source": [
    "### Initial conditions"
   ],
   "id": "e4577d30d9526c10"
  },
  {
   "metadata": {
    "ExecuteTime": {
     "end_time": "2024-05-03T16:59:34.077680Z",
     "start_time": "2024-05-03T16:59:34.057600Z"
    }
   },
   "cell_type": "code",
   "source": [
    "\n",
    "\"\"\"Symbols\"\"\"\n",
    "theta1, theta2, theta1_dot, theta2_dot, theta1_ddot, theta2_ddot = sp.symbols('theta1 theta2 theta1_dot theta2_dot, theta1_ddot, theta2_ddot')\n",
    "\n",
    "\"\"\"Parameters\"\"\"\n",
    "m1, m2, l1, l2 = 1, 1, 1, 1 # Masses and lengths\n",
    "g = 9.81    # Gravitational acceleration\n",
    "y0 = np.array([np.pi/2, np.pi/2, 0, 0]) # Initial conditions\n",
    "\n",
    "\"\"\"Temporal path\"\"\"\n",
    "T = 2.0     # Total time\n",
    "N = 1000    # Number of time steps\n",
    "h = T / N   # Temporal path\n",
    "\n",
    "\"\"\"Equations\"\"\"\n",
    "eq1 = (m1 + m2) * l1 * theta1_ddot + m2 * l2 * theta2_ddot * sp.cos(theta1 - theta2) + m2 * l2 * theta2_dot**2 * sp.sin(theta1 - theta2) + (m1 + m2) * 9.81 * sp.sin(theta1)\n",
    "eq2 = l1 * theta1_ddot * sp.cos(theta1 - theta2) + l2 * theta2_ddot - l1 * theta1_dot**2 * sp.sin(theta1 - theta2) + 9.81 * sp.sin(theta2)\n"
   ],
   "id": "90d2144c00e08f55",
   "outputs": [],
   "execution_count": 56
  },
  {
   "metadata": {},
   "cell_type": "markdown",
   "source": [
    "### Resolving the system"
   ],
   "id": "4ad44a1b5cf6fbf0"
  },
  {
   "metadata": {
    "ExecuteTime": {
     "end_time": "2024-05-03T16:59:35.306213Z",
     "start_time": "2024-05-03T16:59:34.079687Z"
    }
   },
   "cell_type": "code",
   "source": [
    "\"\"\"Resolution of the system\"\"\"\n",
    "sys = sp.solve((eq1,eq2),(theta1_ddot,theta2_ddot), dict = True)[0]\n",
    "theta1_ddot_ = sp.simplify(sys[theta1_ddot])\n",
    "theta2_ddot_ = sp.simplify(sys[theta2_ddot])\n",
    "\n",
    "\"\"\"Substitution\"\"\"\n",
    "theta1_ddot_lambdify = sp.lambdify((theta1, theta1_dot, theta2, theta2_dot), theta1_ddot_, 'numpy')\n",
    "theta2_ddot_lambdify = sp.lambdify((theta1, theta1_dot, theta2, theta2_dot), theta2_ddot_, 'numpy')"
   ],
   "id": "af6429c11cc67c11",
   "outputs": [],
   "execution_count": 57
  },
  {
   "metadata": {},
   "cell_type": "markdown",
   "source": [
    "### Function F"
   ],
   "id": "899f3ec3fffe2b78"
  },
  {
   "metadata": {
    "ExecuteTime": {
     "end_time": "2024-05-03T16:59:35.311985Z",
     "start_time": "2024-05-03T16:59:35.307802Z"
    }
   },
   "cell_type": "code",
   "source": [
    "def F(t, y):\n",
    "    return np.array([y[2], y[3], theta1_ddot_lambdify(y[0], y[1], y[2], y[3]), theta2_ddot_lambdify(y[0], y[1], y[2], y[3])])"
   ],
   "id": "d54b7dbd8ce514ad",
   "outputs": [],
   "execution_count": 58
  },
  {
   "metadata": {},
   "cell_type": "markdown",
   "source": [
    "## Verlet method"
   ],
   "id": "f995ec1a66c66ca5"
  },
  {
   "metadata": {
    "ExecuteTime": {
     "end_time": "2024-05-03T16:59:35.342718Z",
     "start_time": "2024-05-03T16:59:35.313328Z"
    }
   },
   "cell_type": "code",
   "source": [
    "def verlet(Y0, h, l1, l2, m1, m2, N = 1000, g = 9.81):\n",
    "    \"\"\"\n",
    "    Y0: initial conditions\n",
    "    h: temporal path\n",
    "    l1: length of the first pendulum\n",
    "    l2: length of the second pendulum\n",
    "    m1: mass of the first pendulum\n",
    "    m2: mass of the second pendulum\n",
    "    N: number of time steps\n",
    "    g: gravitational acceleration\n",
    "    \"\"\"\n",
    "    # Initialize an array to store the state vectors at each time step\n",
    "    Y = np.zeros((N+1, 4))\n",
    "    # Set the initial condition\n",
    "    Y[0, :] = Y0\n",
    "    # Compute the derivative vector at the initial state using function F\n",
    "    # Initial derivative\n",
    "    F_Y = F(0, Y0)\n",
    "    # First step using Euler to bootstrap Verlet\n",
    "    Y[1, :] = Y[0, :] + h * F_Y + 0.5 * h**2 * F_Y\n",
    "\n",
    "    # Iterate over each time step\n",
    "    for i in range(1, N):\n",
    "        # Compute the derivative vector at the current state using function F\n",
    "        y_temp = np.zeros(4)\n",
    "        y_temp[:2] = 2 * Y[i, :2] - Y[i-1, :2] + (h**2) * F(0,Y[i, :])[2:] # Verlet method\n",
    "        y_temp[2:] = (y_temp[:2] - Y[i-1, :2]) / (2 * h) \n",
    "        # Updating Y[i+1] using intermediate values\n",
    "        Y[i+1, :2] = y_temp[:2] \n",
    "        Y[i+1, 2:] = (Y[i+1, :2] - Y[i, :2]) / h # Derivative\n",
    "\n",
    "    return Y"
   ],
   "id": "a21c53042d15d94f",
   "outputs": [],
   "execution_count": 59
  },
  {
   "metadata": {},
   "cell_type": "markdown",
   "source": [
    "## Printing part"
   ],
   "id": "612c60f96db8db5e"
  },
  {
   "metadata": {
    "ExecuteTime": {
     "end_time": "2024-05-03T16:59:35.651196Z",
     "start_time": "2024-05-03T16:59:35.344717Z"
    }
   },
   "cell_type": "code",
   "source": [
    "Y = verlet(y0, h, l1, l2, m1, m2, N, g)\n",
    "plt.plot(Y[:, 0], Y[:, 1], label = 'Verlet method', color = 'orange')\n",
    "plt.xlabel('Theta 1')\n",
    "plt.ylabel('Theta 2')\n",
    "plt.title('Verlet method')\n",
    "plt.legend()\n",
    "plt.show()\n"
   ],
   "id": "a62356d0b74f8875",
   "outputs": [
    {
     "data": {
      "text/plain": [
       "<Figure size 640x480 with 1 Axes>"
      ],
      "image/png": "[encoded data removed]"
     },
     "metadata": {},
     "output_type": "display_data"
    }
   ],
   "execution_count": 60
  }
 ],
 "metadata": {
  "kernelspec": {
   "display_name": "Python 3",
   "language": "python",
   "name": "python3"
  },
  "language_info": {
   "codemirror_mode": {
    "name": "ipython",
    "version": 2
   },
   "file_extension": ".py",
   "mimetype": "text/x-python",
   "name": "python",
   "nbconvert_exporter": "python",
   "pygments_lexer": "ipython2",
   "version": "2.7.6"
  }
 },
 "nbformat": 4,
 "nbformat_minor": 5
}
